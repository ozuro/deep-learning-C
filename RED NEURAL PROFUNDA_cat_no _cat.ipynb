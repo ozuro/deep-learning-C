{
 "cells": [
  {
   "cell_type": "code",
   "execution_count": 45,
   "metadata": {},
   "outputs": [
    {
     "name": "stdout",
     "output_type": "stream",
     "text": [
      "The autoreload extension is already loaded. To reload it, use:\n",
      "  %reload_ext autoreload\n"
     ]
    }
   ],
   "source": [
    "import numpy as np\n",
    "import h5py\n",
    "import matplotlib.pyplot as plt\n",
    "from testCases_v4 import *\n",
    "from dnn_utils_v2 import sigmoid, sigmoid_backward, relu, relu_backward\n",
    "\n",
    "import time\n",
    "import scipy\n",
    "from PIL import Image\n",
    "from scipy import ndimage\n",
    "import skimage\n",
    "from dnn_utils_v2 import *\n",
    "\n",
    "\n",
    "%matplotlib inline\n",
    "plt.rcParams['figure.figsize'] = (5.0, 4.0)\n",
    "plt.rcParams['image.interpolation'] = 'nearest'\n",
    "plt.rcParams['image.cmap'] = 'gray'\n",
    "\n",
    "%load_ext autoreload\n",
    "%autoreload 2\n",
    "\n",
    "np.random.seed(1)"
   ]
  },
  {
   "cell_type": "code",
   "execution_count": 46,
   "metadata": {},
   "outputs": [
    {
     "name": "stdout",
     "output_type": "stream",
     "text": [
      "W1 = [[ 0.01624345 -0.00611756 -0.00528172]\n",
      " [-0.01072969  0.00865408 -0.02301539]]\n",
      "b1 = [[ 0.01744812]\n",
      " [-0.00761207]]\n",
      "W2 = [[ 0.00319039 -0.0024937 ]]\n",
      "b2 = [[0.01462108]]\n"
     ]
    }
   ],
   "source": [
    "#ACTIVIDAD 1: Cree e inicialice los parámetros de la red neuronal de 2 capas. \n",
    "def initialize_parameters(n_x, n_h, n_y):\n",
    "    np.random.seed(1)\n",
    "    W1 = np.random.randn(n_h, n_x)*0.01\n",
    "    b1 = np.random.randn(n_h, 1)*0.01\n",
    "    W2 = np.random.randn(n_y, n_h)*0.01\n",
    "    b2 = np.random.randn(n_y, 1)*0.01\n",
    "    \n",
    "    assert(W1.shape == (n_h, n_x))\n",
    "    assert(b1.shape == (n_h, 1))\n",
    "    assert(W2.shape == (n_y, n_h))\n",
    "    assert(b2.shape == (n_y, 1))\n",
    "    parameters = {\"W1\": W1,\n",
    "    \"b1\": b1,\n",
    "    \"W2\": W2,\n",
    "    \"b2\": b2}\n",
    "    \n",
    "    return parameters\n",
    "#probando\n",
    "parameters = initialize_parameters(3,2,1)\n",
    "print(\"W1 = \" + str(parameters[\"W1\"]))\n",
    "print(\"b1 = \" + str(parameters[\"b1\"]))\n",
    "print(\"W2 = \" + str(parameters[\"W2\"]))\n",
    "print(\"b2 = \" + str(parameters[\"b2\"]))"
   ]
  },
  {
   "cell_type": "code",
   "execution_count": 47,
   "metadata": {},
   "outputs": [
    {
     "name": "stdout",
     "output_type": "stream",
     "text": [
      "W1 = [[ 0.01788628  0.0043651   0.00096497 -0.01863493 -0.00277388]\n",
      " [-0.00354759 -0.00082741 -0.00627001 -0.00043818 -0.00477218]\n",
      " [-0.01313865  0.00884622  0.00881318  0.01709573  0.00050034]\n",
      " [-0.00404677 -0.0054536  -0.01546477  0.00982367 -0.01101068]]\n",
      "b1 = [[0.]\n",
      " [0.]\n",
      " [0.]\n",
      " [0.]]\n",
      "W2 = [[-0.01185047 -0.0020565   0.01486148  0.00236716]\n",
      " [-0.01023785 -0.00712993  0.00625245 -0.00160513]\n",
      " [-0.00768836 -0.00230031  0.00745056  0.01976111]]\n",
      "b2 = [[0.]\n",
      " [0.]\n",
      " [0.]]\n"
     ]
    }
   ],
   "source": [
    "#ACTIVIDAD 2: Implementar la inicialización de una red neuronal de capa L\n",
    "def initialize_parameters_deep(layer_dims):\n",
    "    np.random.seed(3)\n",
    "    parameters = {}\n",
    "    L = len(layer_dims)\n",
    "    # numero de capas en la neural\n",
    "    for l in range(1, L):\n",
    "        parameters['W' + str(l)] = np.random.randn(layer_dims[l], layer_dims[l-1]) * 0.01\n",
    "        parameters['b' + str(l)] = np.zeros((layer_dims[l], 1)) \n",
    "        \n",
    "        assert(parameters['W' + str(l)].shape == (layer_dims[l], layer_dims[l-1]))\n",
    "        assert(parameters['b' + str(l)].shape == (layer_dims[l], 1))\n",
    "        \n",
    "    return parameters\n",
    "#probando\n",
    "parameters = initialize_parameters_deep([5,4,3])\n",
    "\n",
    "print(\"W1 = \" + str(parameters[\"W1\"]))\n",
    "print(\"b1 = \" + str(parameters[\"b1\"]))\n",
    "print(\"W2 = \" + str(parameters[\"W2\"]))\n",
    "print(\"b2 = \" + str(parameters[\"b2\"]))"
   ]
  },
  {
   "cell_type": "code",
   "execution_count": 48,
   "metadata": {},
   "outputs": [
    {
     "name": "stdout",
     "output_type": "stream",
     "text": [
      "Z = [[ 3.26295337 -1.23429987]]\n"
     ]
    }
   ],
   "source": [
    "#ACTIVIDAD 3: Implementar la propagación hacia adelante lineal. \n",
    "# FUNCTION: linear_forward\n",
    "def linear_forward(A, W, b):\n",
    "    Z = np.dot(W,A)+b\n",
    "    assert(Z.shape == (W.shape[0], A.shape[1]))\n",
    "    cache = (A, W, b)\n",
    "    return Z, cache\n",
    "#Probando la función\n",
    "A, W, b = linear_forward_test_case()\n",
    "Z, linear_cache = linear_forward(A, W, b)\n",
    "print(\"Z = \" + str(Z))"
   ]
  },
  {
   "cell_type": "code",
   "execution_count": 49,
   "metadata": {},
   "outputs": [],
   "source": [
    "#actividad 4: Implementar  la propagación hacia adelante de la capa LINEAR-> ACTIVACIÓN\n",
    "# FUNCTION: linear_activation_forward\n",
    "def linear_activation_forward(A_prev, W, b, activation):\n",
    "    if activation == \"sigmoid\":\n",
    "        Z, linear_cache = linear_forward(A_prev, W, b)\n",
    "        A, activation_cache = sigmoid(Z)\n",
    "    \n",
    "    elif activation == \"relu\":\n",
    "        Z, linear_cache = linear_forward(A_prev, W, b)\n",
    "        A, activation_cache = relu(Z)\n",
    "    \n",
    "    assert (A.shape == (W.shape[0], A_prev.shape[1]))\n",
    "    cache = (linear_cache, activation_cache)\n",
    "    return A, cache"
   ]
  },
  {
   "cell_type": "code",
   "execution_count": 50,
   "metadata": {},
   "outputs": [
    {
     "name": "stdout",
     "output_type": "stream",
     "text": [
      "With sigmoid: A = [[0.96890023 0.11013289]]\n",
      "With ReLU: A = [[3.43896131 0.        ]]\n"
     ]
    }
   ],
   "source": [
    "#Probando a la función\n",
    "A_prev, W, b = linear_activation_forward_test_case()\n",
    "\n",
    "A, linear_activation_cache = linear_activation_forward(A_prev, W, b, activation=\"sigmoid\")\n",
    "print(\"With sigmoid: A = \" + str(A))\n",
    "A, linear_activation_cache = linear_activation_forward(A_prev, W, b, activation = \"relu\")\n",
    "print(\"With ReLU: A = \" + str(A))"
   ]
  },
  {
   "cell_type": "code",
   "execution_count": 51,
   "metadata": {},
   "outputs": [],
   "source": [
    "#actividad 5  Implementar la propagación hacia adelante del modelo anterior\n",
    "# FUNCTION: L_model_forward\n",
    "def L_model_forward(X, parameters):\n",
    "    caches = []\n",
    "    A = X\n",
    "    L = len(parameters) // 2\n",
    "    caches = list()\n",
    "    # número de capas de la red\n",
    "    # Implemente [LINEAR -> RELU]*(L-1). Agregue \"cache\" a la lista \"caches\"\n",
    "    \n",
    "    for l in range(1, L):\n",
    "        A_prev = A\n",
    "        A, cache = linear_activation_forward(A_prev, \n",
    "                                             parameters[\"W\" + str(l)], \n",
    "                                             parameters[\"b\" + str(l)], \n",
    "                                             activation='relu')\n",
    "        caches.append(cache)\n",
    "    \n",
    "    # Implementa LINEAR -> SIGMOID. Agregue \"cache\" a la lista \"caches\".\n",
    "    \n",
    "    AL, cache = linear_activation_forward(A, \n",
    "                                             parameters[\"W\" + str(L)], \n",
    "                                             parameters[\"b\" + str(L)], \n",
    "                                             activation='sigmoid')\n",
    "    caches.append(cache)\n",
    "    \n",
    "    assert(AL.shape == (1,X.shape[1]))\n",
    "    return AL, caches"
   ]
  },
  {
   "cell_type": "code",
   "execution_count": 52,
   "metadata": {},
   "outputs": [
    {
     "name": "stdout",
     "output_type": "stream",
     "text": [
      "{'W1': array([[ 0.35480861,  1.81259031, -1.3564758 , -0.46363197,  0.82465384],\n",
      "       [-1.17643148,  1.56448966,  0.71270509, -0.1810066 ,  0.53419953],\n",
      "       [-0.58661296, -1.48185327,  0.85724762,  0.94309899,  0.11444143],\n",
      "       [-0.02195668, -2.12714455, -0.83440747, -0.46550831,  0.23371059]]), 'b1': array([[ 1.38503523],\n",
      "       [-0.51962709],\n",
      "       [-0.78015214],\n",
      "       [ 0.95560959]]), 'W2': array([[-0.12673638, -1.36861282,  1.21848065, -0.85750144],\n",
      "       [-0.56147088, -1.0335199 ,  0.35877096,  1.07368134],\n",
      "       [-0.37550472,  0.39636757, -0.47144628,  2.33660781]]), 'b2': array([[ 1.50278553],\n",
      "       [-0.59545972],\n",
      "       [ 0.52834106]]), 'W3': array([[ 0.9398248 ,  0.42628539, -0.75815703]]), 'b3': array([[-0.16236698]])}\n",
      "3\n",
      "W2\n",
      "AL = [[0.03921668 0.70498921 0.19734387 0.04728177]]\n",
      "Length of caches list = 3\n"
     ]
    }
   ],
   "source": [
    "#Probando la función\n",
    "X, parameters = L_model_forward_test_case_2hidden()\n",
    "print(parameters)\n",
    "print(len(parameters)//2)\n",
    "print(\"W\"+str(2))\n",
    "AL, caches = L_model_forward(X, parameters)\n",
    "print(\"AL = \" + str(AL))\n",
    "print(\"Length of caches list = \" + str(len(caches)))"
   ]
  },
  {
   "cell_type": "code",
   "execution_count": 53,
   "metadata": {},
   "outputs": [
    {
     "name": "stdout",
     "output_type": "stream",
     "text": [
      "cost=0.414931599615397\n"
     ]
    }
   ],
   "source": [
    "#ACTIVIDAD 6: Calcule el costo de entropía cruzada J¿: \n",
    "def compute_cost(AL, Y):\n",
    "    m=Y.shape[1]\n",
    "    #cost = (np.sum(np.dot(Y,np.log(AL)-T)+ (1-Y)*(np.log(1-AL))))/(-m) \n",
    "    cost = ( np.sum( np.multiply(Y,np.log(AL) ) + np.multiply( (1-Y),( np.log(1-AL) ) ) ) )/(-m) \n",
    "    \n",
    "    cost = np.squeeze(cost)\n",
    "    assert( cost.shape == ())\n",
    "    return cost\n",
    "\n",
    "#probando la funcion\n",
    "Y, AL = compute_cost_test_case()\n",
    "\n",
    "print(\"cost=\"+str(compute_cost(AL, Y)) )"
   ]
  },
  {
   "cell_type": "code",
   "execution_count": 54,
   "metadata": {},
   "outputs": [
    {
     "name": "stdout",
     "output_type": "stream",
     "text": [
      "dA_prev = [[ 0.51822968 -0.19517421]\n",
      " [-0.40506361  0.15255393]\n",
      " [ 2.37496825 -0.89445391]]\n",
      "dW = [[-0.10076895  1.40685096  1.64992505]]\n",
      "db = [[0.50629448]]\n"
     ]
    }
   ],
   "source": [
    "#ACTIVIDAD 7: Usa las 3 fórmulas anteriores para implementar linear_backward (). \n",
    "def linear_backward(dZ, cache):  \n",
    "    A_prev, W, b = cache \n",
    "    m = A_prev.shape[1]\n",
    "    dW = (np.dot(dZ, A_prev.T))/m\n",
    "    db = (np.sum(dZ,axis=1,keepdims = True))/m\n",
    "    dA_prev = (np.dot(W.T, dZ))\n",
    "    assert (dA_prev.shape == A_prev.shape)\n",
    "    assert (dW.shape == W.shape)\n",
    "    assert (db.shape == b.shape)\n",
    "    return dA_prev, dW, db\n",
    "#probando la funcion\n",
    "dZ, linear_cache = linear_backward_test_case() \n",
    "dA_prev, dW, db = linear_backward(dZ, linear_cache)\n",
    "print (\"dA_prev = \"+ str(dA_prev))\n",
    "print (\"dW = \" + str(dW)) \n",
    "print (\"db = \" + str(db))"
   ]
  },
  {
   "cell_type": "code",
   "execution_count": 55,
   "metadata": {},
   "outputs": [
    {
     "name": "stdout",
     "output_type": "stream",
     "text": [
      "sigmoid:\n",
      "dA_prev = [[ 0.11017994  0.01105339]\n",
      " [ 0.09466817  0.00949723]\n",
      " [-0.05743092 -0.00576154]]\n",
      "dW = [[ 0.10266786  0.09778551 -0.01968084]]\n",
      "db = [[-0.05729622]]\n",
      "\n",
      "relu:\n",
      "dA_prev = [[ 0.44090989  0.        ]\n",
      " [ 0.37883606  0.        ]\n",
      " [-0.2298228   0.        ]]\n",
      "dW = [[ 0.44513824  0.37371418 -0.10478989]]\n",
      "db = [[-0.20837892]]\n"
     ]
    }
   ],
   "source": [
    "#actividad 8:Implementar la propagación hacia atrás para la capa LINEAR-> ACTIVACIÓN \n",
    "def linear_activation_backward(dA, cache, activation):\n",
    "    linear_cache, activation_cache = cache\n",
    "\n",
    "    if activation == \"relu\":\n",
    "        dZ =  relu_backward( dA, activation_cache )\n",
    "        dA_prev, dW, db = linear_backward( dZ , linear_cache )\n",
    "\n",
    "    elif activation == \"sigmoid\":\n",
    "        dZ = sigmoid_backward ( dA, activation_cache )\n",
    "        dA_prev, dW, db = linear_backward( dZ, linear_cache )\n",
    "\n",
    "    return dA_prev, dW, db\n",
    "\n",
    "#Probando la función\n",
    "dAL, linear_activation_cache = linear_activation_backward_test_case()\n",
    "dA_prev, dW, db = linear_activation_backward(dAL, linear_activation_cache, activation = \"sigmoid\")\n",
    "print (\"sigmoid:\")\n",
    "print (\"dA_prev = \"+ str(dA_prev))\n",
    "print (\"dW = \" + str(dW))\n",
    "print (\"db = \" + str(db) + \"\\n\")\n",
    "dA_prev, dW, db = linear_activation_backward(dAL, linear_activation_cache, activation = \"relu\")\n",
    "print (\"relu:\")\n",
    "print (\"dA_prev = \"+ str(dA_prev))\n",
    "print (\"dW = \" + str(dW))\n",
    "print (\"db = \" + str(db))"
   ]
  },
  {
   "cell_type": "code",
   "execution_count": 56,
   "metadata": {},
   "outputs": [
    {
     "name": "stdout",
     "output_type": "stream",
     "text": [
      "dW1 = [[0.41010002 0.07807203 0.13798444 0.10502167]\n",
      " [0.         0.         0.         0.        ]\n",
      " [0.05283652 0.01005865 0.01777766 0.0135308 ]]\n",
      "db1 = [[-0.22007063]\n",
      " [ 0.        ]\n",
      " [-0.02835349]]\n",
      "dA1 = [[ 0.12913162 -0.44014127]\n",
      " [-0.14175655  0.48317296]\n",
      " [ 0.01663708 -0.05670698]]\n"
     ]
    }
   ],
   "source": [
    "#actividad 9:  Implementar la propagación hacia atrás para el modelo [LINEAR-> RELU] ×× (L-1) -> LINEAR -> SIGMOID. \n",
    "def L_model_backward(AL, Y, caches):\n",
    "    grads = {}\n",
    "    L = len(caches) # the number of layers\n",
    "    m = AL.shape[1]\n",
    "    Y = Y.reshape(AL.shape) # after this line, Y is the same shape as AL\n",
    "\n",
    "    # Iniciando el backpropagation\n",
    "    dAL = - (np.divide(Y, AL) - np.divide(1 - Y, 1 - AL))\n",
    "\n",
    "    # en cada capa l (SIGMOID -> LINEAR) gradients. Entrada: \"dAL, current_cache\". Salida: \n",
    "    # \"grads[\"dAL-1\"], grads[\"dWL\"], grads[\"dbL\"]\n",
    "    current_cache = caches[L-1] \n",
    "    grads[\"dA\" + str(L-1)], grads[\"dW\" + str(L)], grads[\"db\" + str(L)] = linear_activation_backward( dAL, current_cache, \"sigmoid\" )\n",
    "\n",
    "    # Loop de l=L-2 to l=0\n",
    "    for l in reversed(range(L-1)):\n",
    "        # En cada capa l: (RELU -> LINEAR) gradients.\n",
    "        # Entrada: \"grads[\"dA\" + str(l + 1)], current_cache\". Salida: \n",
    "        #\"grads[\"dA\" + str(l)] , grads[\"dW\" + str(l +1)] , grads[\"db\" + str(l + 1)]\n",
    "\n",
    "        current_cache = caches[l]\n",
    "        dA_prev_temp, dW_temp, db_temp = linear_activation_backward(grads[\"dA\" + str(l+1)],current_cache,\"relu\")\n",
    "        grads[\"dA\" + str(l)] = dA_prev_temp\n",
    "        grads[\"dW\" + str(l + 1)] = dW_temp\n",
    "        grads[\"db\" + str(l + 1)] = db_temp\n",
    "    return grads\n",
    "#Probando la función\n",
    "AL, Y_assess, caches = L_model_backward_test_case()\n",
    "grads = L_model_backward(AL, Y_assess, caches)\n",
    "print_grads(grads)\n"
   ]
  },
  {
   "cell_type": "code",
   "execution_count": 57,
   "metadata": {},
   "outputs": [
    {
     "name": "stdout",
     "output_type": "stream",
     "text": [
      "W1 = [[-0.59562069 -0.09991781 -2.14584584  1.82662008]\n",
      " [-1.76569676 -0.80627147  0.51115557 -1.18258802]\n",
      " [-1.0535704  -0.86128581  0.68284052  2.20374577]]\n",
      "b1 = [[-0.04659241]\n",
      " [-1.28888275]\n",
      " [ 0.53405496]]\n",
      "W2 = [[-0.55569196  0.0354055   1.32964895]]\n",
      "b2 = [[-0.84610769]]\n"
     ]
    }
   ],
   "source": [
    "#actividad 10: implementar update_parameters()\n",
    "def update_parameters(parameters, grads, learning_rate):\n",
    "    L = len(parameters) // 2 # numero de capas de la red\n",
    "    for l in range(1,(L+1)):\n",
    "        parameters[\"W\" + str(l)] =(parameters[\"W\" + str(l)] - learning_rate*(grads[\"dW\" + str(l)]) )\n",
    "        parameters[\"b\" + str(l)] =(parameters[\"b\" + str(l)] - learning_rate*(grads[\"db\" + str(l)]) )\n",
    "    return parameters\n",
    "\n",
    "#Probando la función\n",
    "parameters, grads = update_parameters_test_case()\n",
    "parameters = update_parameters(parameters, grads, 0.1)\n",
    "print (\"W1 = \"+ str(parameters[\"W1\"]))\n",
    "print (\"b1 = \"+ str(parameters[\"b1\"]))\n",
    "print (\"W2 = \"+ str(parameters[\"W2\"]))\n",
    "print (\"b2 = \"+ str(parameters[\"b2\"]))"
   ]
  },
  {
   "cell_type": "code",
   "execution_count": 58,
   "metadata": {},
   "outputs": [],
   "source": [
    "def load_dataset():\n",
    "    train_dataset = h5py.File('train_catvnoncat.h5', \"r\")\n",
    "    train_set_x_orig = np.array(train_dataset[\"train_set_x\"][:]) # your train set features\n",
    "    train_set_y_orig = np.array(train_dataset[\"train_set_y\"][:]) # your train set labels\n",
    "\n",
    "    test_dataset = h5py.File('test_catvnoncat.h5', \"r\")\n",
    "    test_set_x_orig = np.array(test_dataset[\"test_set_x\"][:]) # your test set features\n",
    "    test_set_y_orig = np.array(test_dataset[\"test_set_y\"][:]) # your test set labels\n",
    "\n",
    "    classes = np.array(test_dataset[\"list_classes\"][:]) # the list of classes\n",
    "    \n",
    "    train_set_y_orig = train_set_y_orig.reshape((1, train_set_y_orig.shape[0]))\n",
    "    test_set_y_orig = test_set_y_orig.reshape((1, test_set_y_orig.shape[0]))\n",
    "    \n",
    "    print(\"hi5\")\n",
    "    return train_set_x_orig, train_set_y_orig, test_set_x_orig, test_set_y_orig, classes"
   ]
  },
  {
   "cell_type": "code",
   "execution_count": 60,
   "metadata": {},
   "outputs": [
    {
     "name": "stdout",
     "output_type": "stream",
     "text": [
      "hi5\n",
      "Costo despues de iteracion  0 :  0.6909085741648416\n",
      "Costo despues de iteracion  100 :  1.4374833514095104\n",
      "Costo despues de iteracion  200 :  0.8875469824759281\n",
      "Costo despues de iteracion  300 :  0.6605040835244369\n",
      "Costo despues de iteracion  400 :  0.48089711237327065\n",
      "Costo despues de iteracion  500 :  0.3382697482227684\n",
      "Costo despues de iteracion  600 :  0.23570580436785404\n",
      "Costo despues de iteracion  700 :  0.19281195619529987\n",
      "Costo despues de iteracion  800 :  0.17824368501194035\n",
      "Costo despues de iteracion  900 :  0.16612673420336202\n",
      "Costo despues de iteracion  1000 :  0.15558917256498056\n"
     ]
    }
   ],
   "source": [
    "#train_x_orig, train_y, test_x_orig, test_y, classes = load_dataset()\n",
    "train_x_orig, train_y, test_x_orig, test_y, classes = load_dataset()\n",
    "m_train = train_x_orig.shape[0]\n",
    "num_px = train_x_orig.shape[1]\n",
    "m_test = test_x_orig.shape[0]\n",
    "\n",
    "train_x_flatten = train_x_orig.reshape(train_x_orig.shape[0], -1).T  \n",
    "test_x_flatten = test_x_orig.reshape(test_x_orig.shape[0], -1).T\n",
    "\n",
    "train_x = train_x_flatten/255.\n",
    "test_x = test_x_flatten/255.\n",
    "\n",
    "capas = [12288,1] \n",
    "\n",
    "def prueba_deep_network(X, Y, dimesion, learning_rate = 0.0075, iteraciones = 2000, print_cost=False):#lr was 0.009\n",
    "    np.random.seed(1)\n",
    "    costs = []                         \n",
    "    parameters = initialize_parameters_deep(capas)\n",
    "    for i in range(0, iteraciones):\n",
    "        AL, caches = L_model_forward(X, parameters)\n",
    "        cost = compute_cost(AL, Y)\n",
    "        grads = L_model_backward(AL, Y, caches)\n",
    "        parameters = update_parameters(parameters, grads, learning_rate=learning_rate)\n",
    "        if print_cost and i % 100 == 0:\n",
    "            print (\"Costo despues de iteracion \", str(i),\": \", str(cost))\n",
    "        if print_cost and i % 100 == 0:\n",
    "            costs.append(cost)\n",
    "    return parameters\n",
    "parameters = prueba_deep_network(train_x, train_y, dimesion, iteraciones = 1001, print_cost = True)\n"
   ]
  },
  {
   "cell_type": "code",
   "execution_count": 65,
   "metadata": {},
   "outputs": [
    {
     "name": "stdout",
     "output_type": "stream",
     "text": [
      "costo de  0 :  0.6931471837874629\n",
      "costo de  100 :  0.6740962123836819\n",
      "costo de  200 :  0.6625205543648794\n",
      "costo de  300 :  0.6554527607019606\n",
      "costo de  400 :  0.6511123116263571\n",
      "costo de  500 :  0.6484315446710784\n",
      "costo de  600 :  0.646767277866769\n",
      "costo de  700 :  0.6457294487414328\n",
      "costo de  800 :  0.6450798218914515\n",
      "costo de  900 :  0.6446719174732634\n",
      "costo de  1000 :  0.6444151348445231\n",
      "costo de  1100 :  0.644253148254781\n",
      "costo de  1200 :  0.6441507891262113\n",
      "costo de  1300 :  0.6440860202221679\n",
      "costo de  1400 :  0.6440449919394589\n",
      "costo de  1500 :  0.6440189793786159\n",
      "costo de  1600 :  0.6440024753482685\n",
      "costo de  1700 :  0.6439919982049943\n",
      "costo de  1800 :  0.6439853440557064\n",
      "costo de  1900 :  0.6439811163991047\n",
      "costo de  2000 :  0.6439784296153603\n",
      "{'W1': array([[ 1.78862847e-02,  4.36509851e-03,  9.64974681e-04, ...,\n",
      "         7.42032717e-03,  7.77721020e-03, -2.04410060e-02],\n",
      "       [-2.03473729e-02, -1.27710592e-02, -8.45042725e-03, ...,\n",
      "        -1.59285790e-02,  1.18975700e-02,  1.36909122e-02],\n",
      "       [ 7.36324874e-03,  1.04003549e-02, -6.10754630e-03, ...,\n",
      "        -7.19965355e-03,  1.34253000e-02, -1.94112703e-03],\n",
      "       [-3.14151597e-03, -2.98763476e-03,  6.18678264e-03, ...,\n",
      "        -2.13376757e-03, -5.91547282e-04, -9.07582764e-05],\n",
      "       [-3.76098795e-03,  4.78079395e-03,  1.33795576e-02, ...,\n",
      "         2.58235417e-03,  4.70033278e-03, -8.89961616e-03]]), 'b1': array([[ 0.00000000e+00],\n",
      "       [-3.17492441e-08],\n",
      "       [-2.02814899e-08],\n",
      "       [ 1.09027079e-07],\n",
      "       [-7.85059814e-09]]), 'W2': array([[ 0.02287234, -0.01013267,  0.0016633 , -0.00361614, -0.00695491],\n",
      "       [ 0.02065562,  0.00433546, -0.01965706, -0.01063843, -0.0049485 ],\n",
      "       [-0.0003316 , -0.00012979,  0.0122176 ,  0.00534851, -0.00260475],\n",
      "       [-0.01005073,  0.00305285,  0.00781001, -0.02729797,  0.00578984],\n",
      "       [-0.0069048 ,  0.01835294,  0.00323392,  0.00522296,  0.0006353 ]]), 'b2': array([[ 1.17418024e-07],\n",
      "       [-3.76760559e-06],\n",
      "       [ 2.56601195e-05],\n",
      "       [-9.80512574e-07],\n",
      "       [-4.60056761e-06]]), 'W3': array([[ 0.01124446, -0.00638248,  0.01878089,  0.00149268, -0.00740243],\n",
      "       [-0.00702188, -0.00529638, -0.0205887 , -0.01436923, -0.00806448],\n",
      "       [ 0.00298494, -0.00511591,  0.00998578, -0.002828  , -0.00295324]]), 'b3': array([[-5.88466322e-05],\n",
      "       [ 0.00000000e+00],\n",
      "       [ 1.93232943e-03]]), 'W4': array([[ 0.00279651,  0.0038125 , -0.00343987]]), 'b4': array([[-0.63687921]])}\n"
     ]
    }
   ],
   "source": [
    "layer = [12288,5,5,3,1] \n",
    "alpha = 0.01\n",
    "num_iterations = 2001\n",
    "\n",
    "def modelo_final(X, Y, dimesion, alpha = 0.01, num_iterations = 1800, print_cost=False):#lr was 0.009\n",
    "    np.random.seed(1)\n",
    "    costs = []                         \n",
    "    parameters = initialize_parameters_deep(layer)\n",
    "    for i in range(0, num_iterations):\n",
    "        AL, caches = L_model_forward(X, parameters)\n",
    "        cost = compute_cost(AL, Y)\n",
    "        grads = L_model_backward(AL, Y, caches)\n",
    "        parameters = update_parameters(parameters, grads, learning_rate=alpha)\n",
    "        if print_cost and i % 100 == 0:\n",
    "            print (\"costo de \",str(i),\": \",str(cost))\n",
    "        if print_cost and i % 100 == 0:\n",
    "            costs.append(cost)\n",
    "    return parameters\n",
    "\n",
    "parameters = modelo_final(train_x, train_y, dimesion, alpha, num_iterations, print_cost = True)\n",
    "print (parameters)"
   ]
  },
  {
   "cell_type": "code",
   "execution_count": 61,
   "metadata": {},
   "outputs": [
    {
     "ename": "NameError",
     "evalue": "name 'layers_dims' is not defined",
     "output_type": "error",
     "traceback": [
      "\u001b[1;31m---------------------------------------------------------------------------\u001b[0m",
      "\u001b[1;31mNameError\u001b[0m                                 Traceback (most recent call last)",
      "\u001b[1;32m<ipython-input-61-231b56781101>\u001b[0m in \u001b[0;36m<module>\u001b[1;34m\u001b[0m\n\u001b[0;32m     25\u001b[0m     \u001b[1;32mreturn\u001b[0m \u001b[0mparameters\u001b[0m\u001b[1;33m\u001b[0m\u001b[1;33m\u001b[0m\u001b[0m\n\u001b[0;32m     26\u001b[0m \u001b[1;33m\u001b[0m\u001b[0m\n\u001b[1;32m---> 27\u001b[1;33m \u001b[0mparameters\u001b[0m \u001b[1;33m=\u001b[0m \u001b[0mmodelo\u001b[0m\u001b[1;33m(\u001b[0m\u001b[0mtrain_x\u001b[0m\u001b[1;33m,\u001b[0m \u001b[0mtrain_y\u001b[0m\u001b[1;33m,\u001b[0m \u001b[0mdimesion\u001b[0m\u001b[1;33m,\u001b[0m \u001b[0mnum_iterations\u001b[0m \u001b[1;33m=\u001b[0m \u001b[1;33m...\u001b[0m\u001b[1;33m,\u001b[0m \u001b[0mprint_cost\u001b[0m \u001b[1;33m=\u001b[0m \u001b[1;32mTrue\u001b[0m\u001b[1;33m)\u001b[0m\u001b[1;33m\u001b[0m\u001b[1;33m\u001b[0m\u001b[0m\n\u001b[0m\u001b[0;32m     28\u001b[0m \u001b[1;33m\u001b[0m\u001b[0m\n\u001b[0;32m     29\u001b[0m \u001b[0mprint\u001b[0m\u001b[1;33m(\u001b[0m\u001b[1;34m\"exactitud de entrenamiento:\"\u001b[0m\u001b[1;33m)\u001b[0m\u001b[1;33m\u001b[0m\u001b[1;33m\u001b[0m\u001b[0m\n",
      "\u001b[1;32m<ipython-input-61-231b56781101>\u001b[0m in \u001b[0;36mmodelo\u001b[1;34m(X, Y, dimesion, learning_rate, num_iterations, print_cost)\u001b[0m\n\u001b[0;32m      5\u001b[0m     \u001b[0mnp\u001b[0m\u001b[1;33m.\u001b[0m\u001b[0mrandom\u001b[0m\u001b[1;33m.\u001b[0m\u001b[0mseed\u001b[0m\u001b[1;33m(\u001b[0m\u001b[1;36m1\u001b[0m\u001b[1;33m)\u001b[0m\u001b[1;33m\u001b[0m\u001b[1;33m\u001b[0m\u001b[0m\n\u001b[0;32m      6\u001b[0m     \u001b[0mcosts\u001b[0m \u001b[1;33m=\u001b[0m \u001b[1;33m[\u001b[0m\u001b[1;33m]\u001b[0m\u001b[1;33m\u001b[0m\u001b[1;33m\u001b[0m\u001b[0m\n\u001b[1;32m----> 7\u001b[1;33m     \u001b[0mparameters\u001b[0m \u001b[1;33m=\u001b[0m \u001b[0minitialize_parameters_deep\u001b[0m\u001b[1;33m(\u001b[0m\u001b[0mlayers_dims\u001b[0m\u001b[1;33m)\u001b[0m\u001b[1;33m\u001b[0m\u001b[1;33m\u001b[0m\u001b[0m\n\u001b[0m\u001b[0;32m      8\u001b[0m \u001b[1;33m\u001b[0m\u001b[0m\n\u001b[0;32m      9\u001b[0m     \u001b[1;32mfor\u001b[0m \u001b[0mi\u001b[0m \u001b[1;32min\u001b[0m \u001b[0mrange\u001b[0m\u001b[1;33m(\u001b[0m\u001b[1;36m0\u001b[0m\u001b[1;33m,\u001b[0m \u001b[0mnum_iterations\u001b[0m\u001b[1;33m)\u001b[0m\u001b[1;33m:\u001b[0m\u001b[1;33m\u001b[0m\u001b[1;33m\u001b[0m\u001b[0m\n",
      "\u001b[1;31mNameError\u001b[0m: name 'layers_dims' is not defined"
     ]
    }
   ],
   "source": [
    "#\n",
    "      "
   ]
  },
  {
   "cell_type": "code",
   "execution_count": null,
   "metadata": {},
   "outputs": [],
   "source": []
  },
  {
   "cell_type": "code",
   "execution_count": null,
   "metadata": {},
   "outputs": [],
   "source": []
  }
 ],
 "metadata": {
  "kernelspec": {
   "display_name": "Python 3",
   "language": "python",
   "name": "python3"
  },
  "language_info": {
   "codemirror_mode": {
    "name": "ipython",
    "version": 3
   },
   "file_extension": ".py",
   "mimetype": "text/x-python",
   "name": "python",
   "nbconvert_exporter": "python",
   "pygments_lexer": "ipython3",
   "version": "3.7.3"
  }
 },
 "nbformat": 4,
 "nbformat_minor": 2
}
